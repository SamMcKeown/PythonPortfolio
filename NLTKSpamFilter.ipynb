{
 "cells": [
  {
   "cell_type": "markdown",
   "id": "45692a17",
   "metadata": {},
   "source": [
    "### Contents <a class=\"anchor\" id=\"sections\"></a>\n",
    "\n",
    "* [1. Getting started](#section1)\n",
    "* [2. Preprocess message data](#section2)\n",
    "* [3. Categorise message text](#section3) \n",
    "    - `spam_tokens`  `ham_tokens`\n",
    "* [4. Classify message](#section4)\n",
    "    - `spam_counter`  `ham_counter`\n",
    "* [5. Test spam filter](#section5)\n",
    "    * [5.1 Using custom data](#section5.1)\n",
    "    * [5.2 Using a custom pandas DataFrame](#section5.2)\n",
    "* [6. Test observations](#section6)\n",
    "* [7. Investigating the classification errors](#section7)\n",
    "    * [7.1 Ham tokens with large values](#section7.1)\n",
    "    * [7.2 Excluding ham tokens with a value of 100 or more](#section7.2)\n",
    "    * [7.3 Test solution](#section7.3)\n",
    "    * [7.4 Test observations II](#section7.4)\n",
    "* [8. A new classification error](#section8)  \n",
    "    * [8.1 The 'U' problem](#section8.1)\n",
    "    * [8.2 Excluding spam tokens with a value of 100 or more](#section8.2)\n",
    "    * [8.3 Test solution II](#section8.3)\n",
    "    * [8.4 Further testing](#section8.4)"
   ]
  },
  {
   "cell_type": "markdown",
   "id": "3c63f847",
   "metadata": {},
   "source": [
    "### 1. Getting started <a class=\"anchor\" id=\"section1\"></a>"
   ]
  },
  {
   "cell_type": "code",
   "execution_count": 1,
   "id": "f5176a9c",
   "metadata": {},
   "outputs": [],
   "source": [
    "import nltk\n",
    "import pandas as pd\n",
    "import string"
   ]
  },
  {
   "cell_type": "code",
   "execution_count": 2,
   "id": "546cfc4c",
   "metadata": {},
   "outputs": [
    {
     "name": "stdout",
     "output_type": "stream",
     "text": [
      "ham     4825\n",
      "spam     747\n",
      "Name: label, dtype: int64\n"
     ]
    },
    {
     "data": {
      "text/html": [
       "<div>\n",
       "<style scoped>\n",
       "    .dataframe tbody tr th:only-of-type {\n",
       "        vertical-align: middle;\n",
       "    }\n",
       "\n",
       "    .dataframe tbody tr th {\n",
       "        vertical-align: top;\n",
       "    }\n",
       "\n",
       "    .dataframe thead th {\n",
       "        text-align: right;\n",
       "    }\n",
       "</style>\n",
       "<table border=\"1\" class=\"dataframe\">\n",
       "  <thead>\n",
       "    <tr style=\"text-align: right;\">\n",
       "      <th></th>\n",
       "      <th>label</th>\n",
       "      <th>sms</th>\n",
       "    </tr>\n",
       "  </thead>\n",
       "  <tbody>\n",
       "    <tr>\n",
       "      <th>0</th>\n",
       "      <td>ham</td>\n",
       "      <td>Go until jurong point, crazy.. Available only ...</td>\n",
       "    </tr>\n",
       "    <tr>\n",
       "      <th>1</th>\n",
       "      <td>ham</td>\n",
       "      <td>Ok lar... Joking wif u oni...</td>\n",
       "    </tr>\n",
       "    <tr>\n",
       "      <th>2</th>\n",
       "      <td>spam</td>\n",
       "      <td>Free entry in 2 a wkly comp to win FA Cup fina...</td>\n",
       "    </tr>\n",
       "    <tr>\n",
       "      <th>3</th>\n",
       "      <td>ham</td>\n",
       "      <td>U dun say so early hor... U c already then say...</td>\n",
       "    </tr>\n",
       "    <tr>\n",
       "      <th>4</th>\n",
       "      <td>ham</td>\n",
       "      <td>Nah I don't think he goes to usf, he lives aro...</td>\n",
       "    </tr>\n",
       "  </tbody>\n",
       "</table>\n",
       "</div>"
      ],
      "text/plain": [
       "  label                                                sms\n",
       "0   ham  Go until jurong point, crazy.. Available only ...\n",
       "1   ham                      Ok lar... Joking wif u oni...\n",
       "2  spam  Free entry in 2 a wkly comp to win FA Cup fina...\n",
       "3   ham  U dun say so early hor... U c already then say...\n",
       "4   ham  Nah I don't think he goes to usf, he lives aro..."
      ]
     },
     "metadata": {},
     "output_type": "display_data"
    },
    {
     "data": {
      "text/html": [
       "<div>\n",
       "<style scoped>\n",
       "    .dataframe tbody tr th:only-of-type {\n",
       "        vertical-align: middle;\n",
       "    }\n",
       "\n",
       "    .dataframe tbody tr th {\n",
       "        vertical-align: top;\n",
       "    }\n",
       "\n",
       "    .dataframe thead th {\n",
       "        text-align: right;\n",
       "    }\n",
       "</style>\n",
       "<table border=\"1\" class=\"dataframe\">\n",
       "  <thead>\n",
       "    <tr style=\"text-align: right;\">\n",
       "      <th></th>\n",
       "      <th>label</th>\n",
       "      <th>sms</th>\n",
       "    </tr>\n",
       "  </thead>\n",
       "  <tbody>\n",
       "    <tr>\n",
       "      <th>5567</th>\n",
       "      <td>spam</td>\n",
       "      <td>This is the 2nd time we have tried 2 contact u...</td>\n",
       "    </tr>\n",
       "    <tr>\n",
       "      <th>5568</th>\n",
       "      <td>ham</td>\n",
       "      <td>Will Ì_ b going to esplanade fr home?</td>\n",
       "    </tr>\n",
       "    <tr>\n",
       "      <th>5569</th>\n",
       "      <td>ham</td>\n",
       "      <td>Pity, * was in mood for that. So...any other s...</td>\n",
       "    </tr>\n",
       "    <tr>\n",
       "      <th>5570</th>\n",
       "      <td>ham</td>\n",
       "      <td>The guy did some bitching but I acted like i'd...</td>\n",
       "    </tr>\n",
       "    <tr>\n",
       "      <th>5571</th>\n",
       "      <td>ham</td>\n",
       "      <td>Rofl. Its true to its name</td>\n",
       "    </tr>\n",
       "  </tbody>\n",
       "</table>\n",
       "</div>"
      ],
      "text/plain": [
       "     label                                                sms\n",
       "5567  spam  This is the 2nd time we have tried 2 contact u...\n",
       "5568   ham              Will Ì_ b going to esplanade fr home?\n",
       "5569   ham  Pity, * was in mood for that. So...any other s...\n",
       "5570   ham  The guy did some bitching but I acted like i'd...\n",
       "5571   ham                         Rofl. Its true to its name"
      ]
     },
     "metadata": {},
     "output_type": "display_data"
    }
   ],
   "source": [
    "data = pd.read_csv('data/spam.csv', \n",
    "                   encoding='ISO-8859-1',  \n",
    "                   header=0, \n",
    "                   usecols=range(2), \n",
    "                   names=['label','sms'])\n",
    "\n",
    "print(data['label'].value_counts())\n",
    "display(data.head(), data.tail())"
   ]
  },
  {
   "cell_type": "markdown",
   "id": "44f840c2",
   "metadata": {},
   "source": [
    "### 2. Preprocess message data <a class=\"anchor\" id=\"section2\"><a class=\"anchor\" id=\"function1\">"
   ]
  },
  {
   "cell_type": "code",
   "execution_count": 3,
   "id": "80f02e2a",
   "metadata": {},
   "outputs": [
    {
     "data": {
      "text/html": [
       "<div>\n",
       "<style scoped>\n",
       "    .dataframe tbody tr th:only-of-type {\n",
       "        vertical-align: middle;\n",
       "    }\n",
       "\n",
       "    .dataframe tbody tr th {\n",
       "        vertical-align: top;\n",
       "    }\n",
       "\n",
       "    .dataframe thead th {\n",
       "        text-align: right;\n",
       "    }\n",
       "</style>\n",
       "<table border=\"1\" class=\"dataframe\">\n",
       "  <thead>\n",
       "    <tr style=\"text-align: right;\">\n",
       "      <th></th>\n",
       "      <th>label</th>\n",
       "      <th>sms</th>\n",
       "      <th>sms_processed</th>\n",
       "    </tr>\n",
       "  </thead>\n",
       "  <tbody>\n",
       "    <tr>\n",
       "      <th>0</th>\n",
       "      <td>ham</td>\n",
       "      <td>Go until jurong point, crazy.. Available only ...</td>\n",
       "      <td>[go, jurong, point, crazy, available, bugis, n...</td>\n",
       "    </tr>\n",
       "    <tr>\n",
       "      <th>1</th>\n",
       "      <td>ham</td>\n",
       "      <td>Ok lar... Joking wif u oni...</td>\n",
       "      <td>[ok, lar, joking, wif, u, oni]</td>\n",
       "    </tr>\n",
       "    <tr>\n",
       "      <th>2</th>\n",
       "      <td>spam</td>\n",
       "      <td>Free entry in 2 a wkly comp to win FA Cup fina...</td>\n",
       "      <td>[free, entry, 2, wkly, comp, win, fa, cup, fin...</td>\n",
       "    </tr>\n",
       "    <tr>\n",
       "      <th>3</th>\n",
       "      <td>ham</td>\n",
       "      <td>U dun say so early hor... U c already then say...</td>\n",
       "      <td>[u, dun, say, early, hor, u, c, already, say]</td>\n",
       "    </tr>\n",
       "    <tr>\n",
       "      <th>4</th>\n",
       "      <td>ham</td>\n",
       "      <td>Nah I don't think he goes to usf, he lives aro...</td>\n",
       "      <td>[nah, dont, think, goes, usf, lives, around, t...</td>\n",
       "    </tr>\n",
       "  </tbody>\n",
       "</table>\n",
       "</div>"
      ],
      "text/plain": [
       "  label                                                sms  \\\n",
       "0   ham  Go until jurong point, crazy.. Available only ...   \n",
       "1   ham                      Ok lar... Joking wif u oni...   \n",
       "2  spam  Free entry in 2 a wkly comp to win FA Cup fina...   \n",
       "3   ham  U dun say so early hor... U c already then say...   \n",
       "4   ham  Nah I don't think he goes to usf, he lives aro...   \n",
       "\n",
       "                                       sms_processed  \n",
       "0  [go, jurong, point, crazy, available, bugis, n...  \n",
       "1                     [ok, lar, joking, wif, u, oni]  \n",
       "2  [free, entry, 2, wkly, comp, win, fa, cup, fin...  \n",
       "3      [u, dun, say, early, hor, u, c, already, say]  \n",
       "4  [nah, dont, think, goes, usf, lives, around, t...  "
      ]
     },
     "metadata": {},
     "output_type": "display_data"
    },
    {
     "data": {
      "text/html": [
       "<div>\n",
       "<style scoped>\n",
       "    .dataframe tbody tr th:only-of-type {\n",
       "        vertical-align: middle;\n",
       "    }\n",
       "\n",
       "    .dataframe tbody tr th {\n",
       "        vertical-align: top;\n",
       "    }\n",
       "\n",
       "    .dataframe thead th {\n",
       "        text-align: right;\n",
       "    }\n",
       "</style>\n",
       "<table border=\"1\" class=\"dataframe\">\n",
       "  <thead>\n",
       "    <tr style=\"text-align: right;\">\n",
       "      <th></th>\n",
       "      <th>label</th>\n",
       "      <th>sms</th>\n",
       "      <th>sms_processed</th>\n",
       "    </tr>\n",
       "  </thead>\n",
       "  <tbody>\n",
       "    <tr>\n",
       "      <th>5567</th>\n",
       "      <td>spam</td>\n",
       "      <td>This is the 2nd time we have tried 2 contact u...</td>\n",
       "      <td>[2nd, time, tried, 2, contact, u, u, å£750, po...</td>\n",
       "    </tr>\n",
       "    <tr>\n",
       "      <th>5568</th>\n",
       "      <td>ham</td>\n",
       "      <td>Will Ì_ b going to esplanade fr home?</td>\n",
       "      <td>[ì, b, going, esplanade, fr, home]</td>\n",
       "    </tr>\n",
       "    <tr>\n",
       "      <th>5569</th>\n",
       "      <td>ham</td>\n",
       "      <td>Pity, * was in mood for that. So...any other s...</td>\n",
       "      <td>[pity, mood, soany, suggestions]</td>\n",
       "    </tr>\n",
       "    <tr>\n",
       "      <th>5570</th>\n",
       "      <td>ham</td>\n",
       "      <td>The guy did some bitching but I acted like i'd...</td>\n",
       "      <td>[guy, bitching, acted, like, id, interested, b...</td>\n",
       "    </tr>\n",
       "    <tr>\n",
       "      <th>5571</th>\n",
       "      <td>ham</td>\n",
       "      <td>Rofl. Its true to its name</td>\n",
       "      <td>[rofl, true, name]</td>\n",
       "    </tr>\n",
       "  </tbody>\n",
       "</table>\n",
       "</div>"
      ],
      "text/plain": [
       "     label                                                sms  \\\n",
       "5567  spam  This is the 2nd time we have tried 2 contact u...   \n",
       "5568   ham              Will Ì_ b going to esplanade fr home?   \n",
       "5569   ham  Pity, * was in mood for that. So...any other s...   \n",
       "5570   ham  The guy did some bitching but I acted like i'd...   \n",
       "5571   ham                         Rofl. Its true to its name   \n",
       "\n",
       "                                          sms_processed  \n",
       "5567  [2nd, time, tried, 2, contact, u, u, å£750, po...  \n",
       "5568                 [ì, b, going, esplanade, fr, home]  \n",
       "5569                   [pity, mood, soany, suggestions]  \n",
       "5570  [guy, bitching, acted, like, id, interested, b...  \n",
       "5571                                 [rofl, true, name]  "
      ]
     },
     "metadata": {},
     "output_type": "display_data"
    }
   ],
   "source": [
    "# Function 1\n",
    "def preprocessMessage(message):\n",
    "    '''\n",
    "    Prepares message data for further analysis\n",
    "    \n",
    "    Parameters\n",
    "    ----------\n",
    "    message : str\n",
    "        the message\n",
    "        \n",
    "    Returns\n",
    "    -------\n",
    "    list of str\n",
    "        the processed message\n",
    "    '''\n",
    "    stopwords = nltk.corpus.stopwords.words('english')\n",
    "    symbols = string.punctuation\n",
    "    \n",
    "    stepOne = ''.join([character.lower() for character in message if character not in symbols]) \n",
    "    stepTwo = nltk.tokenize.word_tokenize(stepOne)\n",
    "    stepThree = [word for word in stepTwo if word not in stopwords]\n",
    "    \n",
    "    return stepThree\n",
    "\n",
    "\n",
    "# Apply funciton to return a new column\n",
    "data['sms_processed'] = data['sms'].apply(lambda x: preprocessMessage(x))\n",
    "display(data.head(), data.tail())"
   ]
  },
  {
   "cell_type": "markdown",
   "id": "cf20143f",
   "metadata": {},
   "source": [
    "### 3. Categorise message text <a class=\"anchor\" id=\"section3\"></a><a class=\"anchor\" id=\"function2\"></a>"
   ]
  },
  {
   "cell_type": "code",
   "execution_count": 4,
   "id": "874d5d03",
   "metadata": {},
   "outputs": [],
   "source": [
    "# Function 2\n",
    "# - detecting patterns is a central part of NLP\n",
    "def categoriseWords():\n",
    "    '''\n",
    "    Categorises words/tokens found in (the now processed) messages\n",
    "    \n",
    "    Returns\n",
    "    -------\n",
    "    list x2\n",
    "        a list of words associated with the spam message label\n",
    "        a list of words associated with the ham message label\n",
    "    '''\n",
    "    \n",
    "    spam_tokens=[]\n",
    "    ham_tokens=[]\n",
    "    \n",
    "    # Spam tokens\n",
    "    for message in data['sms_processed'][data['label']=='spam']:\n",
    "        for each_word in message:\n",
    "            spam_tokens.append(each_word)\n",
    "            \n",
    "    # Ham tokens\n",
    "    for message in data['sms_processed'][data['label']=='ham']:\n",
    "        for each_word in message:\n",
    "            ham_tokens.append(each_word)        \n",
    "    \n",
    "    return spam_tokens, ham_tokens\n",
    "\n",
    "# Call function & assign each list to a variable \n",
    "spam_tokens, ham_tokens = categoriseWords()"
   ]
  },
  {
   "cell_type": "code",
   "execution_count": 5,
   "id": "d819a174",
   "metadata": {},
   "outputs": [
    {
     "name": "stdout",
     "output_type": "stream",
     "text": [
      "Spam token total: 12516\n",
      "Unique spam tokens: 2926\n",
      "Spam token examples: ['free', 'entry', '2', 'wkly', 'comp', 'win', 'fa', 'cup', 'final', 'tkts']\n",
      "Example spam_tokens.count(token): {free: 216}\n",
      "\n",
      "Ham token total: 39918\n",
      "Unique ham tokens: 7427\n",
      "Ham token examples: ['something', 'else', 'next', 'week', 'gave', 'us', 'free', 'rofl', 'true', 'name']\n",
      "Example ham_tokens.count(token): {free: 59}\n"
     ]
    }
   ],
   "source": [
    "# Spam tokens\n",
    "print('Spam token total: %s' %len(spam_tokens))\n",
    "print('Unique spam tokens: %s' %len(set(spam_tokens)))\n",
    "print('Spam token examples: %s' %spam_tokens[:10])\n",
    "# free \n",
    "print('Example spam_tokens.count(token): {free: %s' %spam_tokens.count('free')+'}')\n",
    "\n",
    "# Ham tokens\n",
    "print('\\nHam token total: %s' %len(ham_tokens))\n",
    "print('Unique ham tokens: %s' %len(set(ham_tokens)))\n",
    "print('Ham token examples: %s' %ham_tokens[-10:])\n",
    "# free\n",
    "print('Example ham_tokens.count(token): {free: %s' %ham_tokens.count('free')+'}')"
   ]
  },
  {
   "cell_type": "markdown",
   "id": "15d154fd",
   "metadata": {},
   "source": [
    "### 4. Classify message <a class=\"anchor\" id=\"section4\"></a><a class=\"anchor\" id=\"function3\"></a>"
   ]
  },
  {
   "cell_type": "code",
   "execution_count": 6,
   "id": "d6d7b3d9",
   "metadata": {},
   "outputs": [],
   "source": [
    "# Function 3\n",
    "# - this is our spam filter\n",
    "def classifyMessage(message):\n",
    "    '''\n",
    "    Classifies the message as either \"Spam\" or \"Not Spam\" alongside an accuracy measure\n",
    "    \n",
    "    Parameters\n",
    "    ----------\n",
    "    message : list of str\n",
    "        content of the original message.\n",
    "    '''\n",
    "\n",
    "    spam_counter = 0\n",
    "    ham_counter = 0\n",
    "    \n",
    "    # Spam counter\n",
    "    for each_word in message:\n",
    "        spam_counter += spam_tokens.count(each_word) \n",
    "    \n",
    "    # Ham counter\n",
    "    for each_word in message:\n",
    "        ham_counter += ham_tokens.count(each_word) \n",
    "    \n",
    "    # True Positive / (True Positive + True Negative) * 100\n",
    "    if ham_counter > spam_counter:\n",
    "        accuracy = (ham_counter / (ham_counter + spam_counter)) * 100\n",
    "        print('Not Spam, with {:.2f}% accuracy.\\n'.format(accuracy))\n",
    "        \n",
    "    # True Positive / (True Positive + True Negative) * 100\n",
    "    elif spam_counter > ham_counter:\n",
    "        accuracy = (spam_counter / (ham_counter + spam_counter)) * 100\n",
    "        print('Is Spam, with {:.2f}% accuracy.\\n'.format(accuracy))\n",
    "              \n",
    "    else:\n",
    "        print('Might be Spam, with 50% accuracy.\\n')"
   ]
  },
  {
   "cell_type": "markdown",
   "id": "4a161021",
   "metadata": {},
   "source": [
    "### 5. Test spam filter <a class=\"anchor\" id=\"section5\"></a>"
   ]
  },
  {
   "cell_type": "markdown",
   "id": "30d8e1a0",
   "metadata": {},
   "source": [
    "#### 5.1 Using custom data <a class=\"anchor\" id=\"section5.1\"></a> "
   ]
  },
  {
   "cell_type": "code",
   "execution_count": 7,
   "id": "e4d8276f",
   "metadata": {},
   "outputs": [
    {
     "name": "stdout",
     "output_type": "stream",
     "text": [
      "['congratulations', 'two', 'free', 'tickets', 'game', 'next', 'weekend', 'please', 'message', 'number', '123456789', 'claim', 'prize'] \n",
      "\n",
      "Is Spam, with 61.15% accuracy.\n",
      "\n",
      "['hey', 'managed', 'win', 'free', 'tickets', 'game', 'next', 'weekend', 'want', 'come', 'crew'] \n",
      "\n",
      "Not Spam, with 65.40% accuracy.\n",
      "\n"
     ]
    }
   ],
   "source": [
    "# Custom spam message\n",
    "spamMessage = ('''Congratulations! You have won two free tickets to the game next\n",
    "                weekend! Please message this number: +123456789 to claim your prize!''')\n",
    "\n",
    "# Step 1. preprocess the message\n",
    "processedSpamMessage = preprocessMessage(spamMessage)\n",
    "print(processedSpamMessage,'\\n')\n",
    "\n",
    "# Step 2. classify the processed message\n",
    "classifyMessage(processedSpamMessage)\n",
    "\n",
    "\n",
    "# Custom ham message\n",
    "hamMessage = ('''Hey - I managed to win some free tickets to the game next \n",
    "               weekend! Want to come with me and the crew???''')\n",
    "\n",
    "# Step 1. preprocess the message\n",
    "processedHamMessage = preprocessMessage(hamMessage)\n",
    "print(processedHamMessage, '\\n')\n",
    "\n",
    "# Step 2. classify the processed message\n",
    "classifyMessage(processedHamMessage)"
   ]
  },
  {
   "cell_type": "markdown",
   "id": "111b6250",
   "metadata": {},
   "source": [
    "#### 5.2 Using a custom pandas DataFrame<a class=\"anchor\" id=\"section5.2\"></a>"
   ]
  },
  {
   "cell_type": "code",
   "execution_count": 8,
   "id": "30a90a1d",
   "metadata": {},
   "outputs": [
    {
     "data": {
      "text/html": [
       "<div>\n",
       "<style scoped>\n",
       "    .dataframe tbody tr th:only-of-type {\n",
       "        vertical-align: middle;\n",
       "    }\n",
       "\n",
       "    .dataframe tbody tr th {\n",
       "        vertical-align: top;\n",
       "    }\n",
       "\n",
       "    .dataframe thead th {\n",
       "        text-align: right;\n",
       "    }\n",
       "</style>\n",
       "<table border=\"1\" class=\"dataframe\">\n",
       "  <thead>\n",
       "    <tr style=\"text-align: right;\">\n",
       "      <th></th>\n",
       "      <th>label</th>\n",
       "      <th>sms</th>\n",
       "      <th>sms_processed</th>\n",
       "    </tr>\n",
       "  </thead>\n",
       "  <tbody>\n",
       "    <tr>\n",
       "      <th>2</th>\n",
       "      <td>spam</td>\n",
       "      <td>Free entry in 2 a wkly comp to win FA Cup fina...</td>\n",
       "      <td>[free, entry, 2, wkly, comp, win, fa, cup, fin...</td>\n",
       "    </tr>\n",
       "    <tr>\n",
       "      <th>5</th>\n",
       "      <td>spam</td>\n",
       "      <td>FreeMsg Hey there darling it's been 3 week's n...</td>\n",
       "      <td>[freemsg, hey, darling, 3, weeks, word, back, ...</td>\n",
       "    </tr>\n",
       "    <tr>\n",
       "      <th>8</th>\n",
       "      <td>spam</td>\n",
       "      <td>WINNER!! As a valued network customer you have...</td>\n",
       "      <td>[winner, valued, network, customer, selected, ...</td>\n",
       "    </tr>\n",
       "    <tr>\n",
       "      <th>9</th>\n",
       "      <td>spam</td>\n",
       "      <td>Had your mobile 11 months or more? U R entitle...</td>\n",
       "      <td>[mobile, 11, months, u, r, entitled, update, l...</td>\n",
       "    </tr>\n",
       "    <tr>\n",
       "      <th>11</th>\n",
       "      <td>spam</td>\n",
       "      <td>SIX chances to win CASH! From 100 to 20,000 po...</td>\n",
       "      <td>[six, chances, win, cash, 100, 20000, pounds, ...</td>\n",
       "    </tr>\n",
       "  </tbody>\n",
       "</table>\n",
       "</div>"
      ],
      "text/plain": [
       "   label                                                sms  \\\n",
       "2   spam  Free entry in 2 a wkly comp to win FA Cup fina...   \n",
       "5   spam  FreeMsg Hey there darling it's been 3 week's n...   \n",
       "8   spam  WINNER!! As a valued network customer you have...   \n",
       "9   spam  Had your mobile 11 months or more? U R entitle...   \n",
       "11  spam  SIX chances to win CASH! From 100 to 20,000 po...   \n",
       "\n",
       "                                        sms_processed  \n",
       "2   [free, entry, 2, wkly, comp, win, fa, cup, fin...  \n",
       "5   [freemsg, hey, darling, 3, weeks, word, back, ...  \n",
       "8   [winner, valued, network, customer, selected, ...  \n",
       "9   [mobile, 11, months, u, r, entitled, update, l...  \n",
       "11  [six, chances, win, cash, 100, 20000, pounds, ...  "
      ]
     },
     "metadata": {},
     "output_type": "display_data"
    },
    {
     "name": "stdout",
     "output_type": "stream",
     "text": [
      "> 2\n",
      "Is Spam, with 64.18% accuracy.\n",
      "\n",
      "> 5\n",
      "Not Spam, with 81.84% accuracy.\n",
      "\n",
      "> 8\n",
      "Is Spam, with 76.61% accuracy.\n",
      "\n",
      "> 9\n",
      "Not Spam, with 52.81% accuracy.\n",
      "\n",
      "> 11\n",
      "Is Spam, with 65.08% accuracy.\n",
      "\n"
     ]
    }
   ],
   "source": [
    "# Define DataFrame with only spam messages\n",
    "spamMessages = data[data['label']=='spam'].head(5)\n",
    "display(spamMessages)\n",
    "\n",
    "# Test spam filter\n",
    "for x in spamMessages.index:\n",
    "    print('>',x)\n",
    "    classifyMessage(spamMessages.loc[x]['sms_processed'])"
   ]
  },
  {
   "cell_type": "code",
   "execution_count": 9,
   "id": "3617c1a9",
   "metadata": {},
   "outputs": [
    {
     "data": {
      "text/html": [
       "<div>\n",
       "<style scoped>\n",
       "    .dataframe tbody tr th:only-of-type {\n",
       "        vertical-align: middle;\n",
       "    }\n",
       "\n",
       "    .dataframe tbody tr th {\n",
       "        vertical-align: top;\n",
       "    }\n",
       "\n",
       "    .dataframe thead th {\n",
       "        text-align: right;\n",
       "    }\n",
       "</style>\n",
       "<table border=\"1\" class=\"dataframe\">\n",
       "  <thead>\n",
       "    <tr style=\"text-align: right;\">\n",
       "      <th></th>\n",
       "      <th>label</th>\n",
       "      <th>sms</th>\n",
       "      <th>sms_processed</th>\n",
       "    </tr>\n",
       "  </thead>\n",
       "  <tbody>\n",
       "    <tr>\n",
       "      <th>0</th>\n",
       "      <td>ham</td>\n",
       "      <td>Go until jurong point, crazy.. Available only ...</td>\n",
       "      <td>[go, jurong, point, crazy, available, bugis, n...</td>\n",
       "    </tr>\n",
       "    <tr>\n",
       "      <th>1</th>\n",
       "      <td>ham</td>\n",
       "      <td>Ok lar... Joking wif u oni...</td>\n",
       "      <td>[ok, lar, joking, wif, u, oni]</td>\n",
       "    </tr>\n",
       "    <tr>\n",
       "      <th>3</th>\n",
       "      <td>ham</td>\n",
       "      <td>U dun say so early hor... U c already then say...</td>\n",
       "      <td>[u, dun, say, early, hor, u, c, already, say]</td>\n",
       "    </tr>\n",
       "    <tr>\n",
       "      <th>4</th>\n",
       "      <td>ham</td>\n",
       "      <td>Nah I don't think he goes to usf, he lives aro...</td>\n",
       "      <td>[nah, dont, think, goes, usf, lives, around, t...</td>\n",
       "    </tr>\n",
       "    <tr>\n",
       "      <th>6</th>\n",
       "      <td>ham</td>\n",
       "      <td>Even my brother is not like to speak with me. ...</td>\n",
       "      <td>[even, brother, like, speak, treat, like, aids...</td>\n",
       "    </tr>\n",
       "  </tbody>\n",
       "</table>\n",
       "</div>"
      ],
      "text/plain": [
       "  label                                                sms  \\\n",
       "0   ham  Go until jurong point, crazy.. Available only ...   \n",
       "1   ham                      Ok lar... Joking wif u oni...   \n",
       "3   ham  U dun say so early hor... U c already then say...   \n",
       "4   ham  Nah I don't think he goes to usf, he lives aro...   \n",
       "6   ham  Even my brother is not like to speak with me. ...   \n",
       "\n",
       "                                       sms_processed  \n",
       "0  [go, jurong, point, crazy, available, bugis, n...  \n",
       "1                     [ok, lar, joking, wif, u, oni]  \n",
       "3      [u, dun, say, early, hor, u, c, already, say]  \n",
       "4  [nah, dont, think, goes, usf, lives, around, t...  \n",
       "6  [even, brother, like, speak, treat, like, aids...  "
      ]
     },
     "metadata": {},
     "output_type": "display_data"
    },
    {
     "name": "stdout",
     "output_type": "stream",
     "text": [
      "> 0\n",
      "Not Spam, with 93.05% accuracy.\n",
      "\n",
      "> 1\n",
      "Not Spam, with 89.67% accuracy.\n",
      "\n",
      "> 3\n",
      "Not Spam, with 88.28% accuracy.\n",
      "\n",
      "> 4\n",
      "Not Spam, with 94.90% accuracy.\n",
      "\n",
      "> 6\n",
      "Not Spam, with 93.01% accuracy.\n",
      "\n"
     ]
    }
   ],
   "source": [
    "# Define DataFrame with only ham messages\n",
    "hamMessages = data[data['label']=='ham'].head(5)\n",
    "display(hamMessages)\n",
    "\n",
    "# Test spam filter\n",
    "for x in hamMessages.index:\n",
    "    print('>',x)\n",
    "    classifyMessage(hamMessages.loc[x]['sms_processed'])"
   ]
  },
  {
   "cell_type": "markdown",
   "id": "fdf7c0e3",
   "metadata": {},
   "source": [
    "### 6. Test observations <a class=\"anchor\" id=\"section6\"></a>"
   ]
  },
  {
   "cell_type": "code",
   "execution_count": 10,
   "id": "0d23f6f0",
   "metadata": {},
   "outputs": [
    {
     "data": {
      "text/plain": [
       "'spam'"
      ]
     },
     "metadata": {},
     "output_type": "display_data"
    },
    {
     "data": {
      "text/plain": [
       "'spam'"
      ]
     },
     "metadata": {},
     "output_type": "display_data"
    },
    {
     "name": "stdout",
     "output_type": "stream",
     "text": [
      "> 5\n",
      "Not Spam, with 81.84% accuracy.\n",
      "\n",
      "> 9\n",
      "Not Spam, with 52.81% accuracy.\n",
      "\n"
     ]
    }
   ],
   "source": [
    "# An incorrect classification of \"Not Spam\" found for 2 spam messages\n",
    "\n",
    "# View labels\n",
    "for x in (5, 9):\n",
    "    display(data.loc[x]['label'])\n",
    "\n",
    "# View spam filter classifications\n",
    "for x in (5,9):\n",
    "    print('>',x)\n",
    "    classifyMessage(spamMessages.loc[x]['sms_processed'])"
   ]
  },
  {
   "cell_type": "markdown",
   "id": "fd86cc0a",
   "metadata": {},
   "source": [
    "### 7. Investigating the classification errors <a class=\"anchor\" id=\"section7\"></a>"
   ]
  },
  {
   "cell_type": "code",
   "execution_count": 11,
   "id": "50e98ba4",
   "metadata": {},
   "outputs": [],
   "source": [
    "# Function 4\n",
    "# - for a detailed look at each misclassified message\n",
    "def messageSummary(index):\n",
    "    '''\n",
    "    Prints an detailed summary of selected message\n",
    "    \n",
    "    Parameters\n",
    "    ----------\n",
    "    index : int\n",
    "        index number of selected message    \n",
    "    '''\n",
    "    print('Original message:\\n%s' %data.loc[index]['sms'])\n",
    "    print('\\nProcessed message:\\n%s' %data.loc[index]['sms_processed'])\n",
    "    \n",
    "    spam_counter = 0\n",
    "    print('\\nSpam Token Values:')\n",
    "    for word in data.loc[index]['sms_processed']:\n",
    "        spam_counter += spam_tokens.count(word)\n",
    "        print('{' + word + ': ' +str(spam_tokens.count(word)), end='} ')\n",
    "    \n",
    "    ham_counter = 0\n",
    "    print('\\n\\nHam Token Values:')\n",
    "    for word in data.loc[index]['sms_processed']:\n",
    "        ham_counter += ham_tokens.count(word)\n",
    "        print('{' + word + ': ' +str(ham_tokens.count(word)), end='} ')\n",
    "        \n",
    "    print('\\n\\nSpam Token Total: %i' %spam_counter)\n",
    "    print('\\nHam Token Total: %i' %ham_counter)\n",
    "    \n",
    "    if spam_counter > ham_counter:\n",
    "        print('\\nTrue Positive: Is Spam (%s' %spam_counter + ')' + \n",
    "              ' | True Negative : Not Spam (%s' %ham_counter + ')\\n')\n",
    "    else:\n",
    "        print('\\nTrue Positive: Not Spam (%s' %ham_counter + ')' + \n",
    "              ' | True Negative : Is Spam (%s' %spam_counter + ')\\n')\n",
    "        \n",
    "    # The spam filter output \n",
    "    return classifyMessage(data.loc[index]['sms_processed'])"
   ]
  },
  {
   "cell_type": "code",
   "execution_count": 12,
   "id": "ee705491",
   "metadata": {},
   "outputs": [
    {
     "name": "stdout",
     "output_type": "stream",
     "text": [
      "Original message:\n",
      "FreeMsg Hey there darling it's been 3 week's now and no word back! I'd like some fun you up for it still? Tb ok! XxX std chgs to send, å£1.50 to rcv\n",
      "\n",
      "Processed message:\n",
      "['freemsg', 'hey', 'darling', '3', 'weeks', 'word', 'back', 'id', 'like', 'fun', 'still', 'tb', 'ok', 'xxx', 'std', 'chgs', 'send', 'å£150', 'rcv']\n",
      "\n",
      "Spam Token Values:\n",
      "{freemsg: 12} {hey: 5} {darling: 2} {3: 22} {weeks: 13} {word: 22} {back: 23} {id: 3} {like: 13} {fun: 9} {still: 7} {tb: 1} {ok: 5} {xxx: 11} {std: 9} {chgs: 1} {send: 67} {å£150: 27} {rcv: 2} \n",
      "\n",
      "Ham Token Values:\n",
      "{freemsg: 0} {hey: 106} {darling: 3} {3: 44} {weeks: 6} {word: 12} {back: 129} {id: 29} {like: 229} {fun: 22} {still: 146} {tb: 3} {ok: 272} {xxx: 21} {std: 0} {chgs: 0} {send: 123} {å£150: 0} {rcv: 0} \n",
      "\n",
      "Spam Token Total: 254\n",
      "\n",
      "Ham Token Total: 1145\n",
      "\n",
      "True Positive: Not Spam (1145) | True Negative : Is Spam (254)\n",
      "\n",
      "Not Spam, with 81.84% accuracy.\n",
      "\n"
     ]
    }
   ],
   "source": [
    "# Index 5\n",
    "messageSummary(5)"
   ]
  },
  {
   "cell_type": "code",
   "execution_count": 13,
   "id": "22b724ee",
   "metadata": {},
   "outputs": [
    {
     "name": "stdout",
     "output_type": "stream",
     "text": [
      "Original message:\n",
      "Had your mobile 11 months or more? U R entitled to Update to the latest colour mobiles with camera for Free! Call The Mobile Update Co FREE on 08002986030\n",
      "\n",
      "Processed message:\n",
      "['mobile', '11', 'months', 'u', 'r', 'entitled', 'update', 'latest', 'colour', 'mobiles', 'camera', 'free', 'call', 'mobile', 'update', 'co', 'free', '08002986030']\n",
      "\n",
      "Spam Token Values:\n",
      "{mobile: 123} {11: 5} {months: 4} {u: 147} {r: 22} {entitled: 8} {update: 19} {latest: 36} {colour: 17} {mobiles: 12} {camera: 33} {free: 216} {call: 347} {mobile: 123} {update: 19} {co: 5} {free: 216} {08002986030: 2} \n",
      "\n",
      "Ham Token Values:\n",
      "{mobile: 15} {11: 4} {months: 9} {u: 972} {r: 131} {entitled: 0} {update: 5} {latest: 3} {colour: 4} {mobiles: 0} {camera: 3} {free: 59} {call: 229} {mobile: 15} {update: 5} {co: 2} {free: 59} {08002986030: 0} \n",
      "\n",
      "Spam Token Total: 1354\n",
      "\n",
      "Ham Token Total: 1515\n",
      "\n",
      "True Positive: Not Spam (1515) | True Negative : Is Spam (1354)\n",
      "\n",
      "Not Spam, with 52.81% accuracy.\n",
      "\n"
     ]
    }
   ],
   "source": [
    "# Index 9\n",
    "messageSummary(9)"
   ]
  },
  {
   "cell_type": "markdown",
   "id": "bd06ca14",
   "metadata": {},
   "source": [
    "#### 7.1 Ham tokens with large values<a class=\"anchor\" id=\"section7.1\"></a>"
   ]
  },
  {
   "cell_type": "code",
   "execution_count": 14,
   "id": "cba59799",
   "metadata": {},
   "outputs": [
    {
     "name": "stdout",
     "output_type": "stream",
     "text": [
      "{today : 125} {love : 185} {send : 123} {day : 187} {one : 162} {ì : 117} {night : 107} {happy : 105} {want : 163} {well : 126} {need : 156} {n : 134} {hey : 106} {still : 146} {much : 112} {take : 112} {back : 129} {hi : 117} {da : 131} {think : 128} {r : 131} {tell : 121} {time : 189} {great : 100} {way : 100} {lor : 160} {going : 167} {later : 134} {sorry : 153} {see : 137} {cant : 118} {4 : 168} {oh : 111} {home : 160} "
     ]
    }
   ],
   "source": [
    "# Ham tokens with a value between 100 & 200\n",
    "for x in set(ham_tokens):\n",
    "    if ham_tokens.count(x) >= 100 and ham_tokens.count(x) <= 200:\n",
    "        print('{' + x, ':', ham_tokens.count(x), end='} ')"
   ]
  },
  {
   "cell_type": "code",
   "execution_count": 15,
   "id": "3e0eb51f",
   "metadata": {},
   "outputs": [
    {
     "name": "stdout",
     "output_type": "stream",
     "text": [
      "{dont : 257} {2 : 305} {get : 303} {ok : 272} {go : 247} {come : 224} {ill : 236} {got : 243} {ur : 240} {good : 222} {im : 449} {ltgt : 276} {call : 229} {like : 229} {know : 232} "
     ]
    }
   ],
   "source": [
    "# Ham tokens with a value between 200 & 500\n",
    "for x in set(ham_tokens):\n",
    "    if ham_tokens.count(x) >= 200 and ham_tokens.count(x) <= 500:\n",
    "        print('{' + x, ':', ham_tokens.count(x), end='} ')"
   ]
  },
  {
   "cell_type": "code",
   "execution_count": 16,
   "id": "a6334fa5",
   "metadata": {},
   "outputs": [
    {
     "name": "stdout",
     "output_type": "stream",
     "text": [
      "{u : 972} "
     ]
    }
   ],
   "source": [
    "# Ham tokens with a value greater than 500\n",
    "for x in set(ham_tokens):\n",
    "    if ham_tokens.count(x) > 500:\n",
    "        print('{' + x, ':', ham_tokens.count(x), end='} ')"
   ]
  },
  {
   "cell_type": "markdown",
   "id": "03cb74a4",
   "metadata": {},
   "source": [
    "#### 7.2 Excluding ham tokens with a value of 100 or more <a class=\"anchor\" id=\"section7.2\"></a><a class=\"anchor\" id=\"function5\"></a>"
   ]
  },
  {
   "cell_type": "code",
   "execution_count": 17,
   "id": "842686c9",
   "metadata": {},
   "outputs": [],
   "source": [
    "# Update Function 3\n",
    "def classifyMessageUpdated(message):\n",
    "    '''\n",
    "    Classifies the message as either \"Spam\" or \"Not Spam\" alongside an accuracy measure\n",
    "    \n",
    "    - Ham tokens with a value of 100 or more will be omitted from the ham counter\n",
    "    \n",
    "    Parameters\n",
    "    ----------\n",
    "    message : list of str\n",
    "        content of the original message\n",
    "    '''\n",
    "    spam_counter = 0\n",
    "    ham_counter = 0\n",
    "    \n",
    "    for token in message:\n",
    "        spam_counter += spam_tokens.count(token)\n",
    "        \n",
    "    for token in message:\n",
    "        if ham_tokens.count(token) <= 100: # < Logic adjustment made here\n",
    "            ham_counter += ham_tokens.count(token)\n",
    "    \n",
    "    if ham_counter > spam_counter:\n",
    "        accuracy = (ham_counter / (ham_counter + spam_counter)) * 100\n",
    "        print('Not Spam, with {:.2f}% accuracy.\\n'.format(accuracy))\n",
    "        \n",
    "    elif spam_counter > ham_counter:\n",
    "        accuracy = (spam_counter / (ham_counter + spam_counter)) * 100\n",
    "        print('Is Spam, with {:.2f}% accuracy.\\n'.format(accuracy))\n",
    "              \n",
    "    else:\n",
    "        print('Might be Spam, with 50% accuracy.\\n')"
   ]
  },
  {
   "cell_type": "markdown",
   "id": "db7f4fea",
   "metadata": {},
   "source": [
    "#### 7.3 Test Solution <a class=\"anchor\" id=\"section7.3\">"
   ]
  },
  {
   "cell_type": "code",
   "execution_count": 18,
   "id": "d367dcbb",
   "metadata": {},
   "outputs": [
    {
     "data": {
      "text/html": [
       "<div>\n",
       "<style scoped>\n",
       "    .dataframe tbody tr th:only-of-type {\n",
       "        vertical-align: middle;\n",
       "    }\n",
       "\n",
       "    .dataframe tbody tr th {\n",
       "        vertical-align: top;\n",
       "    }\n",
       "\n",
       "    .dataframe thead th {\n",
       "        text-align: right;\n",
       "    }\n",
       "</style>\n",
       "<table border=\"1\" class=\"dataframe\">\n",
       "  <thead>\n",
       "    <tr style=\"text-align: right;\">\n",
       "      <th></th>\n",
       "      <th>label</th>\n",
       "      <th>sms</th>\n",
       "      <th>sms_processed</th>\n",
       "    </tr>\n",
       "  </thead>\n",
       "  <tbody>\n",
       "    <tr>\n",
       "      <th>2</th>\n",
       "      <td>spam</td>\n",
       "      <td>Free entry in 2 a wkly comp to win FA Cup fina...</td>\n",
       "      <td>[free, entry, 2, wkly, comp, win, fa, cup, fin...</td>\n",
       "    </tr>\n",
       "    <tr>\n",
       "      <th>5</th>\n",
       "      <td>spam</td>\n",
       "      <td>FreeMsg Hey there darling it's been 3 week's n...</td>\n",
       "      <td>[freemsg, hey, darling, 3, weeks, word, back, ...</td>\n",
       "    </tr>\n",
       "    <tr>\n",
       "      <th>8</th>\n",
       "      <td>spam</td>\n",
       "      <td>WINNER!! As a valued network customer you have...</td>\n",
       "      <td>[winner, valued, network, customer, selected, ...</td>\n",
       "    </tr>\n",
       "    <tr>\n",
       "      <th>9</th>\n",
       "      <td>spam</td>\n",
       "      <td>Had your mobile 11 months or more? U R entitle...</td>\n",
       "      <td>[mobile, 11, months, u, r, entitled, update, l...</td>\n",
       "    </tr>\n",
       "    <tr>\n",
       "      <th>11</th>\n",
       "      <td>spam</td>\n",
       "      <td>SIX chances to win CASH! From 100 to 20,000 po...</td>\n",
       "      <td>[six, chances, win, cash, 100, 20000, pounds, ...</td>\n",
       "    </tr>\n",
       "  </tbody>\n",
       "</table>\n",
       "</div>"
      ],
      "text/plain": [
       "   label                                                sms  \\\n",
       "2   spam  Free entry in 2 a wkly comp to win FA Cup fina...   \n",
       "5   spam  FreeMsg Hey there darling it's been 3 week's n...   \n",
       "8   spam  WINNER!! As a valued network customer you have...   \n",
       "9   spam  Had your mobile 11 months or more? U R entitle...   \n",
       "11  spam  SIX chances to win CASH! From 100 to 20,000 po...   \n",
       "\n",
       "                                        sms_processed  \n",
       "2   [free, entry, 2, wkly, comp, win, fa, cup, fin...  \n",
       "5   [freemsg, hey, darling, 3, weeks, word, back, ...  \n",
       "8   [winner, valued, network, customer, selected, ...  \n",
       "9   [mobile, 11, months, u, r, entitled, update, l...  \n",
       "11  [six, chances, win, cash, 100, 20000, pounds, ...  "
      ]
     },
     "metadata": {},
     "output_type": "display_data"
    },
    {
     "name": "stdout",
     "output_type": "stream",
     "text": [
      "> 2\n",
      "Is Spam, with 81.72% accuracy.\n",
      "\n",
      "> 5\n",
      "Is Spam, with 64.47% accuracy.\n",
      "\n",
      "> 8\n",
      "Is Spam, with 95.66% accuracy.\n",
      "\n",
      "> 9\n",
      "Is Spam, with 88.09% accuracy.\n",
      "\n",
      "> 11\n",
      "Is Spam, with 88.09% accuracy.\n",
      "\n"
     ]
    }
   ],
   "source": [
    "# Spam messages\n",
    "display(spamMessages)\n",
    "\n",
    "# Test 'new' spam filer \n",
    "for x in spamMessages.index:\n",
    "    print('>',x)\n",
    "    classifyMessageUpdated(spamMessages.loc[x]['sms_processed'])"
   ]
  },
  {
   "cell_type": "code",
   "execution_count": 19,
   "id": "f1eab9c3",
   "metadata": {},
   "outputs": [
    {
     "name": "stdout",
     "output_type": "stream",
     "text": [
      "Not Spam, with 81.84% accuracy.\n",
      "\n",
      "New classification:\n",
      "Is Spam, with 64.47% accuracy.\n",
      "\n",
      "Not Spam, with 52.81% accuracy.\n",
      "\n",
      "New classification:\n",
      "Is Spam, with 88.09% accuracy.\n",
      "\n"
     ]
    }
   ],
   "source": [
    "# Index 5: before function adjustment\n",
    "classifyMessage(spamMessages.loc[5]['sms_processed'])\n",
    "print('New classification:')\n",
    "# Index 5: after function adjustment\n",
    "classifyMessageUpdated(spamMessages.loc[5]['sms_processed'])\n",
    "\n",
    "# Index 9: before function adjustment\n",
    "classifyMessage(spamMessages.loc[9]['sms_processed'])\n",
    "print('New classification:')\n",
    "# Index 9: after function adjustment\n",
    "classifyMessageUpdated(spamMessages.loc[9]['sms_processed'])"
   ]
  },
  {
   "cell_type": "code",
   "execution_count": 20,
   "id": "354705dd",
   "metadata": {},
   "outputs": [],
   "source": [
    "# Update Function 4\n",
    "def messageSummaryUpdated(index):\n",
    "    '''\n",
    "    Prints an detailed summary of selected message\n",
    "    \n",
    "    Parameters\n",
    "    ----------\n",
    "    index : int\n",
    "        index number of selected message    \n",
    "    '''\n",
    "    print('Original message:\\n%s' %data.loc[index]['sms'])\n",
    "    print('\\nProcessed message:\\n%s' %data.loc[index]['sms_processed'])\n",
    "    \n",
    "    spam_counter = 0\n",
    "    print('\\nSpam Token Values:')\n",
    "    for word in data.loc[index]['sms_processed']:\n",
    "        spam_counter += spam_tokens.count(word)\n",
    "        print('{' + word + ': ' +str(spam_tokens.count(word)), end='} ')\n",
    "    \n",
    "    ham_counter = 0\n",
    "    print('\\n\\nHam Token Values:')\n",
    "    for word in data.loc[index]['sms_processed']:\n",
    "        if ham_tokens.count(word) <= 100: # < Logic adjustment made here\n",
    "            ham_counter += ham_tokens.count(word)\n",
    "            print('{' + word + ': ' +str(ham_tokens.count(word)), end='} ')\n",
    "        \n",
    "    print('\\n\\nSpam Token Total: %i' %spam_counter)\n",
    "    print('\\nHam Token Total: %i' %ham_counter)\n",
    "    \n",
    "    if spam_counter > ham_counter:\n",
    "        print('\\nTrue Positive: Is Spam (%s' %spam_counter + ')' + \n",
    "              ' | True Negative : Not Spam (%s' %ham_counter + ')\\n')\n",
    "    else:\n",
    "        print('\\nTrue Positive: Not Spam (%s' %ham_counter + ')' + \n",
    "              ' | True Negative : Is Spam (%s' %spam_counter + ')\\n')\n",
    "        \n",
    "    # The spam filter output \n",
    "    return classifyMessageUpdated(data.loc[index]['sms_processed'])  # < Function adjustment made here"
   ]
  },
  {
   "cell_type": "code",
   "execution_count": 21,
   "id": "3edb32f3",
   "metadata": {},
   "outputs": [
    {
     "name": "stdout",
     "output_type": "stream",
     "text": [
      "Original message:\n",
      "FreeMsg Hey there darling it's been 3 week's now and no word back! I'd like some fun you up for it still? Tb ok! XxX std chgs to send, å£1.50 to rcv\n",
      "\n",
      "Processed message:\n",
      "['freemsg', 'hey', 'darling', '3', 'weeks', 'word', 'back', 'id', 'like', 'fun', 'still', 'tb', 'ok', 'xxx', 'std', 'chgs', 'send', 'å£150', 'rcv']\n",
      "\n",
      "Spam Token Values:\n",
      "{freemsg: 12} {hey: 5} {darling: 2} {3: 22} {weeks: 13} {word: 22} {back: 23} {id: 3} {like: 13} {fun: 9} {still: 7} {tb: 1} {ok: 5} {xxx: 11} {std: 9} {chgs: 1} {send: 67} {å£150: 27} {rcv: 2} \n",
      "\n",
      "Ham Token Values:\n",
      "{freemsg: 0} {hey: 106} {darling: 3} {3: 44} {weeks: 6} {word: 12} {back: 129} {id: 29} {like: 229} {fun: 22} {still: 146} {tb: 3} {ok: 272} {xxx: 21} {std: 0} {chgs: 0} {send: 123} {å£150: 0} {rcv: 0} \n",
      "\n",
      "Spam Token Total: 254\n",
      "\n",
      "Ham Token Total: 1145\n",
      "\n",
      "True Positive: Not Spam (1145) | True Negative : Is Spam (254)\n",
      "\n",
      "Not Spam, with 81.84% accuracy.\n",
      "\n",
      "Original message:\n",
      "FreeMsg Hey there darling it's been 3 week's now and no word back! I'd like some fun you up for it still? Tb ok! XxX std chgs to send, å£1.50 to rcv\n",
      "\n",
      "Processed message:\n",
      "['freemsg', 'hey', 'darling', '3', 'weeks', 'word', 'back', 'id', 'like', 'fun', 'still', 'tb', 'ok', 'xxx', 'std', 'chgs', 'send', 'å£150', 'rcv']\n",
      "\n",
      "Spam Token Values:\n",
      "{freemsg: 12} {hey: 5} {darling: 2} {3: 22} {weeks: 13} {word: 22} {back: 23} {id: 3} {like: 13} {fun: 9} {still: 7} {tb: 1} {ok: 5} {xxx: 11} {std: 9} {chgs: 1} {send: 67} {å£150: 27} {rcv: 2} \n",
      "\n",
      "Ham Token Values:\n",
      "{freemsg: 0} {darling: 3} {3: 44} {weeks: 6} {word: 12} {id: 29} {fun: 22} {tb: 3} {xxx: 21} {std: 0} {chgs: 0} {å£150: 0} {rcv: 0} \n",
      "\n",
      "Spam Token Total: 254\n",
      "\n",
      "Ham Token Total: 140\n",
      "\n",
      "True Positive: Is Spam (254) | True Negative : Not Spam (140)\n",
      "\n",
      "Is Spam, with 64.47% accuracy.\n",
      "\n"
     ]
    }
   ],
   "source": [
    "# Index 5: before code adjustment\n",
    "messageSummary(5)\n",
    "# Index 5: after code adjustment\n",
    "messageSummaryUpdated(5)"
   ]
  },
  {
   "cell_type": "code",
   "execution_count": 22,
   "id": "5a437978",
   "metadata": {},
   "outputs": [
    {
     "name": "stdout",
     "output_type": "stream",
     "text": [
      "Original message:\n",
      "Had your mobile 11 months or more? U R entitled to Update to the latest colour mobiles with camera for Free! Call The Mobile Update Co FREE on 08002986030\n",
      "\n",
      "Processed message:\n",
      "['mobile', '11', 'months', 'u', 'r', 'entitled', 'update', 'latest', 'colour', 'mobiles', 'camera', 'free', 'call', 'mobile', 'update', 'co', 'free', '08002986030']\n",
      "\n",
      "Spam Token Values:\n",
      "{mobile: 123} {11: 5} {months: 4} {u: 147} {r: 22} {entitled: 8} {update: 19} {latest: 36} {colour: 17} {mobiles: 12} {camera: 33} {free: 216} {call: 347} {mobile: 123} {update: 19} {co: 5} {free: 216} {08002986030: 2} \n",
      "\n",
      "Ham Token Values:\n",
      "{mobile: 15} {11: 4} {months: 9} {u: 972} {r: 131} {entitled: 0} {update: 5} {latest: 3} {colour: 4} {mobiles: 0} {camera: 3} {free: 59} {call: 229} {mobile: 15} {update: 5} {co: 2} {free: 59} {08002986030: 0} \n",
      "\n",
      "Spam Token Total: 1354\n",
      "\n",
      "Ham Token Total: 1515\n",
      "\n",
      "True Positive: Not Spam (1515) | True Negative : Is Spam (1354)\n",
      "\n",
      "Not Spam, with 52.81% accuracy.\n",
      "\n",
      "Original message:\n",
      "Had your mobile 11 months or more? U R entitled to Update to the latest colour mobiles with camera for Free! Call The Mobile Update Co FREE on 08002986030\n",
      "\n",
      "Processed message:\n",
      "['mobile', '11', 'months', 'u', 'r', 'entitled', 'update', 'latest', 'colour', 'mobiles', 'camera', 'free', 'call', 'mobile', 'update', 'co', 'free', '08002986030']\n",
      "\n",
      "Spam Token Values:\n",
      "{mobile: 123} {11: 5} {months: 4} {u: 147} {r: 22} {entitled: 8} {update: 19} {latest: 36} {colour: 17} {mobiles: 12} {camera: 33} {free: 216} {call: 347} {mobile: 123} {update: 19} {co: 5} {free: 216} {08002986030: 2} \n",
      "\n",
      "Ham Token Values:\n",
      "{mobile: 15} {11: 4} {months: 9} {entitled: 0} {update: 5} {latest: 3} {colour: 4} {mobiles: 0} {camera: 3} {free: 59} {mobile: 15} {update: 5} {co: 2} {free: 59} {08002986030: 0} \n",
      "\n",
      "Spam Token Total: 1354\n",
      "\n",
      "Ham Token Total: 183\n",
      "\n",
      "True Positive: Is Spam (1354) | True Negative : Not Spam (183)\n",
      "\n",
      "Is Spam, with 88.09% accuracy.\n",
      "\n"
     ]
    }
   ],
   "source": [
    "# Index 9: before code adjustment\n",
    "messageSummary(9)\n",
    "# Index 9: after code adjustment\n",
    "messageSummaryUpdated(9)"
   ]
  },
  {
   "cell_type": "code",
   "execution_count": 23,
   "id": "5daf675b",
   "metadata": {},
   "outputs": [
    {
     "data": {
      "text/html": [
       "<div>\n",
       "<style scoped>\n",
       "    .dataframe tbody tr th:only-of-type {\n",
       "        vertical-align: middle;\n",
       "    }\n",
       "\n",
       "    .dataframe tbody tr th {\n",
       "        vertical-align: top;\n",
       "    }\n",
       "\n",
       "    .dataframe thead th {\n",
       "        text-align: right;\n",
       "    }\n",
       "</style>\n",
       "<table border=\"1\" class=\"dataframe\">\n",
       "  <thead>\n",
       "    <tr style=\"text-align: right;\">\n",
       "      <th></th>\n",
       "      <th>label</th>\n",
       "      <th>sms</th>\n",
       "      <th>sms_processed</th>\n",
       "    </tr>\n",
       "  </thead>\n",
       "  <tbody>\n",
       "    <tr>\n",
       "      <th>0</th>\n",
       "      <td>ham</td>\n",
       "      <td>Go until jurong point, crazy.. Available only ...</td>\n",
       "      <td>[go, jurong, point, crazy, available, bugis, n...</td>\n",
       "    </tr>\n",
       "    <tr>\n",
       "      <th>1</th>\n",
       "      <td>ham</td>\n",
       "      <td>Ok lar... Joking wif u oni...</td>\n",
       "      <td>[ok, lar, joking, wif, u, oni]</td>\n",
       "    </tr>\n",
       "    <tr>\n",
       "      <th>3</th>\n",
       "      <td>ham</td>\n",
       "      <td>U dun say so early hor... U c already then say...</td>\n",
       "      <td>[u, dun, say, early, hor, u, c, already, say]</td>\n",
       "    </tr>\n",
       "    <tr>\n",
       "      <th>4</th>\n",
       "      <td>ham</td>\n",
       "      <td>Nah I don't think he goes to usf, he lives aro...</td>\n",
       "      <td>[nah, dont, think, goes, usf, lives, around, t...</td>\n",
       "    </tr>\n",
       "    <tr>\n",
       "      <th>6</th>\n",
       "      <td>ham</td>\n",
       "      <td>Even my brother is not like to speak with me. ...</td>\n",
       "      <td>[even, brother, like, speak, treat, like, aids...</td>\n",
       "    </tr>\n",
       "  </tbody>\n",
       "</table>\n",
       "</div>"
      ],
      "text/plain": [
       "  label                                                sms  \\\n",
       "0   ham  Go until jurong point, crazy.. Available only ...   \n",
       "1   ham                      Ok lar... Joking wif u oni...   \n",
       "3   ham  U dun say so early hor... U c already then say...   \n",
       "4   ham  Nah I don't think he goes to usf, he lives aro...   \n",
       "6   ham  Even my brother is not like to speak with me. ...   \n",
       "\n",
       "                                       sms_processed  \n",
       "0  [go, jurong, point, crazy, available, bugis, n...  \n",
       "1                     [ok, lar, joking, wif, u, oni]  \n",
       "3      [u, dun, say, early, hor, u, c, already, say]  \n",
       "4  [nah, dont, think, goes, usf, lives, around, t...  \n",
       "6  [even, brother, like, speak, treat, like, aids...  "
      ]
     },
     "metadata": {},
     "output_type": "display_data"
    },
    {
     "name": "stdout",
     "output_type": "stream",
     "text": [
      "> 0\n",
      "Not Spam, with 83.18% accuracy.\n",
      "\n",
      "> 1\n",
      "Is Spam, with 66.96% accuracy.\n",
      "\n",
      "> 3\n",
      "Not Spam, with 57.28% accuracy.\n",
      "\n",
      "> 4\n",
      "Not Spam, with 82.93% accuracy.\n",
      "\n",
      "> 6\n",
      "Not Spam, with 72.61% accuracy.\n",
      "\n"
     ]
    }
   ],
   "source": [
    "# Ham messages\n",
    "display(hamMessages)\n",
    "\n",
    "# Test 'new' spam filer \n",
    "for x in hamMessages.index:\n",
    "    print('>',x)\n",
    "    classifyMessageUpdated(hamMessages.loc[x]['sms_processed'])"
   ]
  },
  {
   "cell_type": "markdown",
   "id": "2388c1f5",
   "metadata": {},
   "source": [
    "#### 7.4 Test observations II <a class=\"anchor\" id=\"section7.4\">"
   ]
  },
  {
   "cell_type": "code",
   "execution_count": 24,
   "id": "8fe4126a",
   "metadata": {},
   "outputs": [
    {
     "data": {
      "text/plain": [
       "'ham'"
      ]
     },
     "metadata": {},
     "output_type": "display_data"
    },
    {
     "name": "stdout",
     "output_type": "stream",
     "text": [
      "> 1\n",
      "Is Spam, with 66.96% accuracy.\n",
      "\n"
     ]
    }
   ],
   "source": [
    "# An incorrect classification of \"Is Spam\" found for 1 ham messages\n",
    "\n",
    "# View label\n",
    "display(data.loc[1]['label'])\n",
    "\n",
    "# View spam filter classifications\n",
    "print('> 1')\n",
    "classifyMessageUpdated(hamMessages.loc[1]['sms_processed'])"
   ]
  },
  {
   "cell_type": "markdown",
   "id": "281c9ad8",
   "metadata": {},
   "source": [
    "### 8. A new classification error <a class=\"anchor\" id=\"section8\"></a>"
   ]
  },
  {
   "cell_type": "code",
   "execution_count": 25,
   "id": "3179ccd6",
   "metadata": {},
   "outputs": [
    {
     "name": "stdout",
     "output_type": "stream",
     "text": [
      "Not Spam, with 89.67% accuracy.\n",
      "\n",
      "Is Spam, with 66.96% accuracy.\n",
      "\n"
     ]
    }
   ],
   "source": [
    "# Index 1: before code adjustment\n",
    "classifyMessage(hamMessages.loc[1]['sms_processed'])\n",
    "\n",
    "# Index 1: after code adjustment\n",
    "classifyMessageUpdated(hamMessages.loc[1]['sms_processed'])"
   ]
  },
  {
   "cell_type": "code",
   "execution_count": 26,
   "id": "e4f5f0a5",
   "metadata": {},
   "outputs": [
    {
     "name": "stdout",
     "output_type": "stream",
     "text": [
      "Original message:\n",
      "Ok lar... Joking wif u oni...\n",
      "\n",
      "Processed message:\n",
      "['ok', 'lar', 'joking', 'wif', 'u', 'oni']\n",
      "\n",
      "Spam Token Values:\n",
      "{ok: 5} {lar: 0} {joking: 0} {wif: 0} {u: 147} {oni: 0} \n",
      "\n",
      "Ham Token Values:\n",
      "{lar: 38} {joking: 6} {wif: 27} {oni: 4} \n",
      "\n",
      "Spam Token Total: 152\n",
      "\n",
      "Ham Token Total: 75\n",
      "\n",
      "True Positive: Is Spam (152) | True Negative : Not Spam (75)\n",
      "\n",
      "Is Spam, with 66.96% accuracy.\n",
      "\n"
     ]
    }
   ],
   "source": [
    "# Index 1\n",
    "# - a detailed summary of the problem\n",
    "messageSummaryUpdated(1)"
   ]
  },
  {
   "cell_type": "markdown",
   "id": "bcb45e79",
   "metadata": {},
   "source": [
    "#### 8.1 The 'U' problem <a class=\"anchor\" id=\"section8.1\"> "
   ]
  },
  {
   "cell_type": "code",
   "execution_count": 27,
   "id": "1b5f98f0",
   "metadata": {},
   "outputs": [
    {
     "name": "stdout",
     "output_type": "stream",
     "text": [
      "u spam token count: 147\n",
      "u ham token count: 972\n"
     ]
    }
   ],
   "source": [
    "print('u spam token count:',spam_tokens.count('u'))\n",
    "print('u ham token count:',ham_tokens.count('u'))"
   ]
  },
  {
   "cell_type": "code",
   "execution_count": 28,
   "id": "0a91e7a9",
   "metadata": {},
   "outputs": [
    {
     "name": "stdout",
     "output_type": "stream",
     "text": [
      "{reply : 101} {mobile : 123} {text : 120} {claim : 113} {ur : 144} {u : 147} {4 : 119} {txt : 150} {stop : 113} {2 : 173} "
     ]
    }
   ],
   "source": [
    "# Spam tokens with a value between 100 & 200\n",
    "for x in set(spam_tokens):\n",
    "    if spam_tokens.count(x) >= 100 and spam_tokens.count(x) <= 200:\n",
    "        print('{' + x, ':', spam_tokens.count(x), end='} ')"
   ]
  },
  {
   "cell_type": "code",
   "execution_count": 29,
   "id": "974cd07c",
   "metadata": {},
   "outputs": [
    {
     "name": "stdout",
     "output_type": "stream",
     "text": [
      "{free : 216} {call : 347} "
     ]
    }
   ],
   "source": [
    "# Spam tokens with a value greater than 200\n",
    "for x in set(spam_tokens):\n",
    "    if spam_tokens.count(x) > 200:\n",
    "        print('{' + x, ':', spam_tokens.count(x), end='} ')"
   ]
  },
  {
   "cell_type": "markdown",
   "id": "703e92b5",
   "metadata": {},
   "source": [
    "#### 8.2 Excluding spam tokens with a value of 100 or more <a class=\"anchor\" id=\"section8.2\">"
   ]
  },
  {
   "cell_type": "code",
   "execution_count": 30,
   "id": "00d789cf",
   "metadata": {},
   "outputs": [],
   "source": [
    "# Update Function 3 II\n",
    "def classifyMessageUpdated2(message):\n",
    "    \n",
    "    spam_counter = 0\n",
    "    ham_counter = 0\n",
    "    \n",
    "    for token in message:\n",
    "        if spam_tokens.count(token) <= 100: # < Logic adjustment made here\n",
    "            spam_counter += spam_tokens.count(token)\n",
    "        \n",
    "    for token in message:\n",
    "        if ham_tokens.count(token) <= 100: # < Logic adjustment made here\n",
    "            ham_counter += ham_tokens.count(token)\n",
    "    \n",
    "    if ham_counter > spam_counter:\n",
    "        accuracy = (ham_counter / (ham_counter + spam_counter)) * 100\n",
    "        print('Not Spam, with {:.2f}% accuracy.\\n'.format(accuracy))\n",
    "        \n",
    "    elif spam_counter > ham_counter:\n",
    "        accuracy = (spam_counter / (ham_counter + spam_counter)) * 100\n",
    "        print('Is Spam, with {:.2f}% accuracy.\\n'.format(accuracy))\n",
    "              \n",
    "    else:\n",
    "        print('Might be Spam, with 50% accuracy.\\n')"
   ]
  },
  {
   "cell_type": "markdown",
   "id": "9f209976",
   "metadata": {},
   "source": [
    "#### 8.3 Test solution II <a class=\"anchor\" id=\"section8.3\">"
   ]
  },
  {
   "cell_type": "code",
   "execution_count": 31,
   "id": "951a02a5",
   "metadata": {},
   "outputs": [
    {
     "data": {
      "text/html": [
       "<div>\n",
       "<style scoped>\n",
       "    .dataframe tbody tr th:only-of-type {\n",
       "        vertical-align: middle;\n",
       "    }\n",
       "\n",
       "    .dataframe tbody tr th {\n",
       "        vertical-align: top;\n",
       "    }\n",
       "\n",
       "    .dataframe thead th {\n",
       "        text-align: right;\n",
       "    }\n",
       "</style>\n",
       "<table border=\"1\" class=\"dataframe\">\n",
       "  <thead>\n",
       "    <tr style=\"text-align: right;\">\n",
       "      <th></th>\n",
       "      <th>label</th>\n",
       "      <th>sms</th>\n",
       "      <th>sms_processed</th>\n",
       "    </tr>\n",
       "  </thead>\n",
       "  <tbody>\n",
       "    <tr>\n",
       "      <th>0</th>\n",
       "      <td>ham</td>\n",
       "      <td>Go until jurong point, crazy.. Available only ...</td>\n",
       "      <td>[go, jurong, point, crazy, available, bugis, n...</td>\n",
       "    </tr>\n",
       "    <tr>\n",
       "      <th>1</th>\n",
       "      <td>ham</td>\n",
       "      <td>Ok lar... Joking wif u oni...</td>\n",
       "      <td>[ok, lar, joking, wif, u, oni]</td>\n",
       "    </tr>\n",
       "    <tr>\n",
       "      <th>3</th>\n",
       "      <td>ham</td>\n",
       "      <td>U dun say so early hor... U c already then say...</td>\n",
       "      <td>[u, dun, say, early, hor, u, c, already, say]</td>\n",
       "    </tr>\n",
       "    <tr>\n",
       "      <th>4</th>\n",
       "      <td>ham</td>\n",
       "      <td>Nah I don't think he goes to usf, he lives aro...</td>\n",
       "      <td>[nah, dont, think, goes, usf, lives, around, t...</td>\n",
       "    </tr>\n",
       "    <tr>\n",
       "      <th>6</th>\n",
       "      <td>ham</td>\n",
       "      <td>Even my brother is not like to speak with me. ...</td>\n",
       "      <td>[even, brother, like, speak, treat, like, aids...</td>\n",
       "    </tr>\n",
       "  </tbody>\n",
       "</table>\n",
       "</div>"
      ],
      "text/plain": [
       "  label                                                sms  \\\n",
       "0   ham  Go until jurong point, crazy.. Available only ...   \n",
       "1   ham                      Ok lar... Joking wif u oni...   \n",
       "3   ham  U dun say so early hor... U c already then say...   \n",
       "4   ham  Nah I don't think he goes to usf, he lives aro...   \n",
       "6   ham  Even my brother is not like to speak with me. ...   \n",
       "\n",
       "                                       sms_processed  \n",
       "0  [go, jurong, point, crazy, available, bugis, n...  \n",
       "1                     [ok, lar, joking, wif, u, oni]  \n",
       "3      [u, dun, say, early, hor, u, c, already, say]  \n",
       "4  [nah, dont, think, goes, usf, lives, around, t...  \n",
       "6  [even, brother, like, speak, treat, like, aids...  "
      ]
     },
     "metadata": {},
     "output_type": "display_data"
    },
    {
     "name": "stdout",
     "output_type": "stream",
     "text": [
      "ham\n",
      "Original filter classification:\n",
      "Not Spam, with 89.67% accuracy.\n",
      "\n",
      "ham\n",
      "Second filter classification\n",
      "Is Spam, with 66.96% accuracy.\n",
      "\n",
      "ham\n",
      "Third filter classification\n",
      "Not Spam, with 93.75% accuracy.\n",
      "\n"
     ]
    }
   ],
   "source": [
    "display(hamMessages)\n",
    "\n",
    "# Iteration 1: original spam filter & index 1\n",
    "print(hamMessages.loc[1]['label'])\n",
    "print('Original filter classification:')\n",
    "classifyMessage(hamMessages.loc[1]['sms_processed'])\n",
    "\n",
    "# Iteration 2: initial filter adjustment (omit ham tokens > 100) & index 1\n",
    "print(hamMessages.loc[1]['label'])\n",
    "print('Second filter classification')\n",
    "classifyMessageUpdated(hamMessages.loc[1]['sms_processed'])\n",
    "\n",
    "# Iteration 3: second filter adjustment (omit spam tokens > 100) & index 1\n",
    "print(hamMessages.loc[1]['label'])\n",
    "print('Third filter classification')\n",
    "classifyMessageUpdated2(hamMessages.loc[1]['sms_processed'])"
   ]
  },
  {
   "cell_type": "markdown",
   "id": "570e1da6",
   "metadata": {},
   "source": [
    "#### 8.4 Further testing <a class=\"anchor\" id=\"section8.4\">"
   ]
  },
  {
   "cell_type": "code",
   "execution_count": 32,
   "id": "e6a02051",
   "metadata": {},
   "outputs": [
    {
     "data": {
      "text/html": [
       "<div>\n",
       "<style scoped>\n",
       "    .dataframe tbody tr th:only-of-type {\n",
       "        vertical-align: middle;\n",
       "    }\n",
       "\n",
       "    .dataframe tbody tr th {\n",
       "        vertical-align: top;\n",
       "    }\n",
       "\n",
       "    .dataframe thead th {\n",
       "        text-align: right;\n",
       "    }\n",
       "</style>\n",
       "<table border=\"1\" class=\"dataframe\">\n",
       "  <thead>\n",
       "    <tr style=\"text-align: right;\">\n",
       "      <th></th>\n",
       "      <th>label</th>\n",
       "      <th>sms</th>\n",
       "      <th>sms_processed</th>\n",
       "    </tr>\n",
       "  </thead>\n",
       "  <tbody>\n",
       "    <tr>\n",
       "      <th>2</th>\n",
       "      <td>spam</td>\n",
       "      <td>Free entry in 2 a wkly comp to win FA Cup fina...</td>\n",
       "      <td>[free, entry, 2, wkly, comp, win, fa, cup, fin...</td>\n",
       "    </tr>\n",
       "    <tr>\n",
       "      <th>5</th>\n",
       "      <td>spam</td>\n",
       "      <td>FreeMsg Hey there darling it's been 3 week's n...</td>\n",
       "      <td>[freemsg, hey, darling, 3, weeks, word, back, ...</td>\n",
       "    </tr>\n",
       "    <tr>\n",
       "      <th>8</th>\n",
       "      <td>spam</td>\n",
       "      <td>WINNER!! As a valued network customer you have...</td>\n",
       "      <td>[winner, valued, network, customer, selected, ...</td>\n",
       "    </tr>\n",
       "    <tr>\n",
       "      <th>9</th>\n",
       "      <td>spam</td>\n",
       "      <td>Had your mobile 11 months or more? U R entitle...</td>\n",
       "      <td>[mobile, 11, months, u, r, entitled, update, l...</td>\n",
       "    </tr>\n",
       "    <tr>\n",
       "      <th>11</th>\n",
       "      <td>spam</td>\n",
       "      <td>SIX chances to win CASH! From 100 to 20,000 po...</td>\n",
       "      <td>[six, chances, win, cash, 100, 20000, pounds, ...</td>\n",
       "    </tr>\n",
       "  </tbody>\n",
       "</table>\n",
       "</div>"
      ],
      "text/plain": [
       "   label                                                sms  \\\n",
       "2   spam  Free entry in 2 a wkly comp to win FA Cup fina...   \n",
       "5   spam  FreeMsg Hey there darling it's been 3 week's n...   \n",
       "8   spam  WINNER!! As a valued network customer you have...   \n",
       "9   spam  Had your mobile 11 months or more? U R entitle...   \n",
       "11  spam  SIX chances to win CASH! From 100 to 20,000 po...   \n",
       "\n",
       "                                        sms_processed  \n",
       "2   [free, entry, 2, wkly, comp, win, fa, cup, fin...  \n",
       "5   [freemsg, hey, darling, 3, weeks, word, back, ...  \n",
       "8   [winner, valued, network, customer, selected, ...  \n",
       "9   [mobile, 11, months, u, r, entitled, update, l...  \n",
       "11  [six, chances, win, cash, 100, 20000, pounds, ...  "
      ]
     },
     "metadata": {},
     "output_type": "display_data"
    },
    {
     "name": "stdout",
     "output_type": "stream",
     "text": [
      "> 2\n",
      "Is Spam, with 64.18% accuracy.\n",
      "\n",
      "> 5\n",
      "Not Spam, with 81.84% accuracy.\n",
      "\n",
      "> 8\n",
      "Is Spam, with 76.61% accuracy.\n",
      "\n",
      "> 9\n",
      "Not Spam, with 52.81% accuracy.\n",
      "\n",
      "> 11\n",
      "Is Spam, with 65.08% accuracy.\n",
      "\n"
     ]
    }
   ],
   "source": [
    "# Spam messages\n",
    "display(spamMessages)\n",
    "\n",
    "# Iteration 1: original spam filter\n",
    "for x in spamMessages.index:\n",
    "    print('>',x)\n",
    "    classifyMessage(spamMessages.loc[x]['sms_processed'])"
   ]
  },
  {
   "cell_type": "code",
   "execution_count": 33,
   "id": "ea50212b",
   "metadata": {},
   "outputs": [
    {
     "name": "stdout",
     "output_type": "stream",
     "text": [
      "> 2\n",
      "Is Spam, with 81.72% accuracy.\n",
      "\n",
      "> 5\n",
      "Is Spam, with 64.47% accuracy.\n",
      "\n",
      "> 8\n",
      "Is Spam, with 95.66% accuracy.\n",
      "\n",
      "> 9\n",
      "Is Spam, with 88.09% accuracy.\n",
      "\n",
      "> 11\n",
      "Is Spam, with 88.09% accuracy.\n",
      "\n"
     ]
    }
   ],
   "source": [
    "# Iteration 2: initial filter adjustment (omit ham tokens > 100)\n",
    "for x in spamMessages.index:\n",
    "    print('>',x)\n",
    "    classifyMessageUpdated(spamMessages.loc[x]['sms_processed'])"
   ]
  },
  {
   "cell_type": "code",
   "execution_count": 34,
   "id": "35614985",
   "metadata": {},
   "outputs": [
    {
     "name": "stdout",
     "output_type": "stream",
     "text": [
      "> 2\n",
      "Is Spam, with 55.36% accuracy.\n",
      "\n",
      "> 5\n",
      "Is Spam, with 64.47% accuracy.\n",
      "\n",
      "> 8\n",
      "Is Spam, with 88.51% accuracy.\n",
      "\n",
      "> 9\n",
      "Not Spam, with 50.14% accuracy.\n",
      "\n",
      "> 11\n",
      "Is Spam, with 78.37% accuracy.\n",
      "\n"
     ]
    }
   ],
   "source": [
    "# Iteration 3: second filter adjustment (omit spam tokens > 100)\n",
    "for x in spamMessages.index:\n",
    "    print('>',x)\n",
    "    classifyMessageUpdated2(spamMessages.loc[x]['sms_processed'])"
   ]
  },
  {
   "cell_type": "code",
   "execution_count": 35,
   "id": "f5524b78",
   "metadata": {},
   "outputs": [
    {
     "data": {
      "text/html": [
       "<div>\n",
       "<style scoped>\n",
       "    .dataframe tbody tr th:only-of-type {\n",
       "        vertical-align: middle;\n",
       "    }\n",
       "\n",
       "    .dataframe tbody tr th {\n",
       "        vertical-align: top;\n",
       "    }\n",
       "\n",
       "    .dataframe thead th {\n",
       "        text-align: right;\n",
       "    }\n",
       "</style>\n",
       "<table border=\"1\" class=\"dataframe\">\n",
       "  <thead>\n",
       "    <tr style=\"text-align: right;\">\n",
       "      <th></th>\n",
       "      <th>label</th>\n",
       "      <th>sms</th>\n",
       "      <th>sms_processed</th>\n",
       "    </tr>\n",
       "  </thead>\n",
       "  <tbody>\n",
       "    <tr>\n",
       "      <th>0</th>\n",
       "      <td>ham</td>\n",
       "      <td>Go until jurong point, crazy.. Available only ...</td>\n",
       "      <td>[go, jurong, point, crazy, available, bugis, n...</td>\n",
       "    </tr>\n",
       "    <tr>\n",
       "      <th>1</th>\n",
       "      <td>ham</td>\n",
       "      <td>Ok lar... Joking wif u oni...</td>\n",
       "      <td>[ok, lar, joking, wif, u, oni]</td>\n",
       "    </tr>\n",
       "    <tr>\n",
       "      <th>3</th>\n",
       "      <td>ham</td>\n",
       "      <td>U dun say so early hor... U c already then say...</td>\n",
       "      <td>[u, dun, say, early, hor, u, c, already, say]</td>\n",
       "    </tr>\n",
       "    <tr>\n",
       "      <th>4</th>\n",
       "      <td>ham</td>\n",
       "      <td>Nah I don't think he goes to usf, he lives aro...</td>\n",
       "      <td>[nah, dont, think, goes, usf, lives, around, t...</td>\n",
       "    </tr>\n",
       "    <tr>\n",
       "      <th>6</th>\n",
       "      <td>ham</td>\n",
       "      <td>Even my brother is not like to speak with me. ...</td>\n",
       "      <td>[even, brother, like, speak, treat, like, aids...</td>\n",
       "    </tr>\n",
       "  </tbody>\n",
       "</table>\n",
       "</div>"
      ],
      "text/plain": [
       "  label                                                sms  \\\n",
       "0   ham  Go until jurong point, crazy.. Available only ...   \n",
       "1   ham                      Ok lar... Joking wif u oni...   \n",
       "3   ham  U dun say so early hor... U c already then say...   \n",
       "4   ham  Nah I don't think he goes to usf, he lives aro...   \n",
       "6   ham  Even my brother is not like to speak with me. ...   \n",
       "\n",
       "                                       sms_processed  \n",
       "0  [go, jurong, point, crazy, available, bugis, n...  \n",
       "1                     [ok, lar, joking, wif, u, oni]  \n",
       "3      [u, dun, say, early, hor, u, c, already, say]  \n",
       "4  [nah, dont, think, goes, usf, lives, around, t...  \n",
       "6  [even, brother, like, speak, treat, like, aids...  "
      ]
     },
     "metadata": {},
     "output_type": "display_data"
    },
    {
     "name": "stdout",
     "output_type": "stream",
     "text": [
      "> 0\n",
      "Not Spam, with 93.05% accuracy.\n",
      "\n",
      "> 1\n",
      "Not Spam, with 89.67% accuracy.\n",
      "\n",
      "> 3\n",
      "Not Spam, with 88.28% accuracy.\n",
      "\n",
      "> 4\n",
      "Not Spam, with 94.90% accuracy.\n",
      "\n",
      "> 6\n",
      "Not Spam, with 93.01% accuracy.\n",
      "\n"
     ]
    }
   ],
   "source": [
    "# Ham messages\n",
    "display(hamMessages)\n",
    "\n",
    "# Iteration 1: original spam filter\n",
    "for x in hamMessages.index:\n",
    "    print('>',x)\n",
    "    classifyMessage(hamMessages.loc[x]['sms_processed'])"
   ]
  },
  {
   "cell_type": "code",
   "execution_count": 36,
   "id": "8fa1ee82",
   "metadata": {},
   "outputs": [
    {
     "name": "stdout",
     "output_type": "stream",
     "text": [
      "> 0\n",
      "Not Spam, with 83.18% accuracy.\n",
      "\n",
      "> 1\n",
      "Is Spam, with 66.96% accuracy.\n",
      "\n",
      "> 3\n",
      "Not Spam, with 57.28% accuracy.\n",
      "\n",
      "> 4\n",
      "Not Spam, with 82.93% accuracy.\n",
      "\n",
      "> 6\n",
      "Not Spam, with 72.61% accuracy.\n",
      "\n"
     ]
    }
   ],
   "source": [
    "# Iteration 2: initial filter adjustment (omit ham tokens > 100)\n",
    "for x in hamMessages.index:\n",
    "    print('>',x)\n",
    "    classifyMessageUpdated(hamMessages.loc[x]['sms_processed'])"
   ]
  },
  {
   "cell_type": "code",
   "execution_count": 37,
   "id": "879597d7",
   "metadata": {},
   "outputs": [
    {
     "name": "stdout",
     "output_type": "stream",
     "text": [
      "> 0\n",
      "Not Spam, with 83.18% accuracy.\n",
      "\n",
      "> 1\n",
      "Not Spam, with 93.75% accuracy.\n",
      "\n",
      "> 3\n",
      "Not Spam, with 95.46% accuracy.\n",
      "\n",
      "> 4\n",
      "Not Spam, with 82.93% accuracy.\n",
      "\n",
      "> 6\n",
      "Not Spam, with 72.61% accuracy.\n",
      "\n"
     ]
    }
   ],
   "source": [
    "# Iteration 3: second filter adjustment (omit spam tokens > 100)\n",
    "for x in hamMessages.index:\n",
    "    print('>',x)\n",
    "    classifyMessageUpdated2(hamMessages.loc[x]['sms_processed'])"
   ]
  },
  {
   "cell_type": "markdown",
   "id": "15ec074f",
   "metadata": {},
   "source": [
    "[Return to contents](#sections)"
   ]
  }
 ],
 "metadata": {
  "kernelspec": {
   "display_name": "Python 3 (ipykernel)",
   "language": "python",
   "name": "python3"
  },
  "language_info": {
   "codemirror_mode": {
    "name": "ipython",
    "version": 3
   },
   "file_extension": ".py",
   "mimetype": "text/x-python",
   "name": "python",
   "nbconvert_exporter": "python",
   "pygments_lexer": "ipython3",
   "version": "3.9.6"
  }
 },
 "nbformat": 4,
 "nbformat_minor": 5
}
